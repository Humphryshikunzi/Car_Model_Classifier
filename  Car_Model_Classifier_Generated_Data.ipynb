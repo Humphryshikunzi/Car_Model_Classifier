{
 "cells": [
  {
   "cell_type": "markdown",
   "metadata": {},
   "source": [
    "## Classification Project for Car Models"
   ]
  },
  {
   "cell_type": "markdown",
   "metadata": {},
   "source": [
    "### First generate more data about the images we have with data generator"
   ]
  },
  {
   "cell_type": "code",
   "execution_count": 7,
   "metadata": {},
   "outputs": [],
   "source": [
    "from keras.preprocessing.image import ImageDataGenerator, img_to_array, load_img\n",
    "from glob import glob"
   ]
  },
  {
   "cell_type": "code",
   "execution_count": 8,
   "metadata": {},
   "outputs": [],
   "source": [
    "# define the generator\n",
    "datagenerator = ImageDataGenerator(rotation_range=40, width_shift_range=0.2, height_shift_range=0.2, shear_range=0.2,\n",
    "                                  zoom_range=0.2, horizontal_flip=True, fill_mode='nearest')\n"
   ]
  },
  {
   "cell_type": "code",
   "execution_count": 9,
   "metadata": {},
   "outputs": [],
   "source": [
    "# Load the images for the generator, and reduce their sizes to 96 by 96 images\n",
    "chevy_impala_img = load_img('Images/chevy-impala/chevy-impala.jpg')\n",
    "chevy_sonic_img = load_img('Images/chevy-sonic/chevy-sonic.jpg')\n",
    "ford_fiesta_img = load_img('Images/ford-fiesta/ford-fiesta.jpg')\n",
    "hyundai_azera_img = load_img('Images/hyundai-azera/hyundai-azera.jpg')\n",
    "mazda_img = load_img('Images/mazida/mazda.jpg')\n",
    "subaru_legac = load_img('Images/subaru-legac/subaru-legac.jpg')\n",
    "toyota_yaris = load_img('Images/toyota-yaris/toyota-yaris.jpg') \n",
    "vw_passat = load_img('Images/vw-passat/vw-passat.jpg')"
   ]
  },
  {
   "cell_type": "code",
   "execution_count": 10,
   "metadata": {},
   "outputs": [],
   "source": [
    "# Convert the images to numpy arrays of shape (3, 150, 150)\n",
    "chevy_impala_img_array = img_to_array(chevy_impala_img)\n",
    "chevy_sonic_img_array = img_to_array(chevy_sonic_img)\n",
    "ford_fiesta_img_array = img_to_array(ford_fiesta_img)\n",
    "hyundai_azera_img_array = img_to_array(hyundai_azera_img)\n",
    "mazda_img_array = img_to_array(mazda_img)\n",
    "subaru_legac_array = img_to_array(subaru_legac)\n",
    "toyota_yaris_array = img_to_array(toyota_yaris)\n",
    "vw_passat_array = img_to_array(vw_passat)"
   ]
  },
  {
   "cell_type": "code",
   "execution_count": 11,
   "metadata": {},
   "outputs": [],
   "source": [
    "# Convert the images to numpy arrays of shape (1, 3, 150, 150)\n",
    "chevy_impala_img_array = chevy_impala_img_array.reshape((1,) + chevy_impala_img_array.shape)\n",
    "chevy_sonic_img_array = chevy_sonic_img_array.reshape((1, ) + chevy_sonic_img_array.shape)\n",
    "ford_fiesta_img_array = ford_fiesta_img_array.reshape((1, ) + ford_fiesta_img_array.shape)\n",
    "hyundai_azera_img_array = hyundai_azera_img_array.reshape((1, ) + hyundai_azera_img_array.shape)\n",
    "mazda_img_array = mazda_img_array.reshape((1, ) + mazda_img_array.shape)\n",
    "subaru_legac_array = subaru_legac_array.reshape((1, ) + subaru_legac_array.shape)\n",
    "toyota_yaris_array = toyota_yaris_array.reshape((1, ) + toyota_yaris_array.shape)\n",
    "vw_passat_array = vw_passat_array.reshape((1, ) + vw_passat_array.shape)"
   ]
  },
  {
   "cell_type": "code",
   "execution_count": 12,
   "metadata": {},
   "outputs": [],
   "source": [
    "# Generate 50 images of each model and store them in their respective folders\n",
    "\n",
    "\n",
    "i = 0\n",
    "\n",
    "# chevy_impala_img\n",
    "i = 0\n",
    "for batch in datagenerator.flow(chevy_impala_img_array, save_to_dir='Images/chevy-impala/', save_prefix='chevy_impala',\n",
    "                                 save_format='jpeg'  ):\n",
    "    i += 1\n",
    "    if i > 50 :\n",
    "        break\n",
    "\n",
    "# chevy_sonic_img\n",
    "i = 0\n",
    "for batch in datagenerator.flow(chevy_sonic_img_array, save_to_dir='Images/chevy-sonic/', save_prefix='chevy_sonic',\n",
    "                                 save_format='jpeg'  ):\n",
    "    i += 1\n",
    "    if i > 50 :\n",
    "        break\n",
    "        \n",
    "# ford_fiesta_img\n",
    "i = 0\n",
    "for batch in datagenerator.flow(ford_fiesta_img_array, save_to_dir='Images/ford-fiesta/', save_prefix='ford_fiesta',\n",
    "                                 save_format='jpeg'  ):\n",
    "    i += 1\n",
    "    if i > 50 :\n",
    "        break\n",
    "\n",
    "#  hyundai_azera_img\n",
    "i = 0\n",
    "for batch in datagenerator.flow(hyundai_azera_img_array, save_to_dir='Images/hyundai-azera/', save_prefix='hyundai_azera',\n",
    "                                 save_format='jpeg'  ):\n",
    "    i += 1\n",
    "    if i > 50 :\n",
    "        break\n",
    "        \n",
    "# mazda_img\n",
    "i = 0\n",
    "for batch in datagenerator.flow(mazda_img_array, save_to_dir='Images/mazida/', save_prefix='mazda',\n",
    "                                 save_format='jpeg'  ):\n",
    "    i += 1\n",
    "    if i > 50 :\n",
    "        break\n",
    "#subaru_legac \n",
    "i = 0\n",
    "for batch in datagenerator.flow(subaru_legac_array, save_to_dir='Images/subaru-legac/', save_prefix='subaru',\n",
    "                                 save_format='jpeg'  ):\n",
    "    i += 1\n",
    "    if i > 50 :\n",
    "        break\n",
    "#toyota_yaris \n",
    "i = 0\n",
    "for batch in datagenerator.flow(toyota_yaris_array, save_to_dir='Images/toyota-yaris/', save_prefix='toyota_yaris',\n",
    "                                 save_format='jpeg'  ):\n",
    "    i += 1\n",
    "    if i > 50 :\n",
    "        break\n",
    "        \n",
    "# vw_passat\n",
    "i = 0\n",
    "for batch in datagenerator.flow(vw_passat_array, save_to_dir='Images/vw-passat/', save_prefix='vw_passat',\n",
    "                                 save_format='jpeg'  ):\n",
    "    i += 1\n",
    "    if i > 50 :\n",
    "        break"
   ]
  },
  {
   "cell_type": "code",
   "execution_count": null,
   "metadata": {},
   "outputs": [],
   "source": []
  }
 ],
 "metadata": {
  "kernelspec": {
   "display_name": "Python 3",
   "language": "python",
   "name": "python3"
  },
  "language_info": {
   "codemirror_mode": {
    "name": "ipython",
    "version": 3
   },
   "file_extension": ".py",
   "mimetype": "text/x-python",
   "name": "python",
   "nbconvert_exporter": "python",
   "pygments_lexer": "ipython3",
   "version": "3.7.4"
  }
 },
 "nbformat": 4,
 "nbformat_minor": 2
}
